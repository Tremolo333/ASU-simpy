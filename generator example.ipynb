{
 "cells": [
  {
   "cell_type": "code",
   "execution_count": 2,
   "id": "f07ebaa4-440f-45e5-96fd-06d25225d703",
   "metadata": {},
   "outputs": [
    {
     "name": "stdout",
     "output_type": "stream",
     "text": [
      "0 <Timeout(0.22639114340340016) object at 0x7f55c81d9790>\n",
      "0 <Timeout(8.628507205571795) object at 0x7f55c81d9880>\n",
      "0 <Timeout(0.09486297852782138) object at 0x7f55c81d98e0>\n",
      "0 <Timeout(2.4785386080559872) object at 0x7f55c81d9970>\n",
      "0 <Timeout(1.226985708838951) object at 0x7f55c81d9a00>\n",
      "0 <Timeout(3.159607944445665) object at 0x7f55c81d9ac0>\n",
      "0 <Timeout(0.8430158070423035) object at 0x7f55c81d9a90>\n",
      "0 <Timeout(9.178603631404913) object at 0x7f55c81d9b20>\n",
      "0 <Timeout(0.9412861891269315) object at 0x7f55c81d9b80>\n",
      "0 <Timeout(0.6563748972145663) object at 0x7f55c81d9be0>\n"
     ]
    }
   ],
   "source": [
    "import numpy as np\n",
    "import simpy\n",
    "\n",
    "def inter_arrival_generator(env, lambdas):\n",
    "    while True:\n",
    "        yield env.timeout(np.random.exponential(1.0/lambdas[0]))\n",
    "        yield env.timeout(np.random.exponential(1.0/lambdas[1]))\n",
    "        yield env.timeout(np.random.exponential(1.0/lambdas[2]))\n",
    "\n",
    "# create environment and generator\n",
    "env = simpy.Environment()\n",
    "lambdas = [1.0/1.2, 1.0/9.5, 1.0/3.5]  # means in days\n",
    "inter_arrival_gen = inter_arrival_generator(env, lambdas)\n",
    "\n",
    "# example usage\n",
    "for i in range(10):\n",
    "    print(env.now, next(inter_arrival_gen))"
   ]
  },
  {
   "cell_type": "code",
   "execution_count": null,
   "id": "39deff0d-1c2f-4781-be90-f69f9917b344",
   "metadata": {},
   "outputs": [],
   "source": []
  }
 ],
 "metadata": {
  "kernelspec": {
   "display_name": "Python 3 (ipykernel)",
   "language": "python",
   "name": "python3"
  },
  "language_info": {
   "codemirror_mode": {
    "name": "ipython",
    "version": 3
   },
   "file_extension": ".py",
   "mimetype": "text/x-python",
   "name": "python",
   "nbconvert_exporter": "python",
   "pygments_lexer": "ipython3",
   "version": "3.8.12"
  }
 },
 "nbformat": 4,
 "nbformat_minor": 5
}
